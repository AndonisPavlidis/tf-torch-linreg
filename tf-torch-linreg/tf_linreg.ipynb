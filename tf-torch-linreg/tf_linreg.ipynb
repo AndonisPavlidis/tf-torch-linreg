{
 "cells": [
  {
   "cell_type": "code",
   "execution_count": 1,
   "metadata": {},
   "outputs": [],
   "source": [
    "import tensorflow as tf\n",
    "import pandas as pd\n",
    "import matplotlib.pyplot as plt\n",
    "import numpy as np\n",
    "from sklearn.preprocessing import StandardScaler\n",
    "from sklearn.model_selection import train_test_split\n",
    "from pathlib import Path"
   ]
  },
  {
   "cell_type": "code",
   "execution_count": 2,
   "metadata": {},
   "outputs": [
    {
     "data": {
      "text/plain": [
       "[PhysicalDevice(name='/physical_device:CPU:0', device_type='CPU'),\n",
       " PhysicalDevice(name='/physical_device:GPU:0', device_type='GPU')]"
      ]
     },
     "execution_count": 2,
     "metadata": {},
     "output_type": "execute_result"
    }
   ],
   "source": [
    "# Check what physical devices are available\n",
    "tf.config.list_physical_devices()"
   ]
  },
  {
   "cell_type": "markdown",
   "metadata": {},
   "source": [
    "## Load and prepare the data"
   ]
  },
  {
   "cell_type": "code",
   "execution_count": 3,
   "metadata": {
    "scrolled": true
   },
   "outputs": [],
   "source": [
    "life_expectancy_data = pd.read_csv(Path(\"./data/life_expectancy_who.csv\"))"
   ]
  },
  {
   "cell_type": "code",
   "execution_count": 4,
   "metadata": {},
   "outputs": [],
   "source": [
    "def create_feature_and_target_data(life_expectancy_data: pd.DataFrame) -> (np.array, np.array):\n",
    "    \"\"\"Create feature and target TensorFlow tensors from life expectancy data.\n",
    "\n",
    "    Args:\n",
    "        dataframe: Life expectancy data downloaded from Kaggle kumarajarshi/life-expectancy-who.\n",
    "\n",
    "    Returns:\n",
    "        X, y the features and target data.\n",
    "    \"\"\"\n",
    "    # Rename columns to remove spaces and make lowercase\n",
    "    life_expectancy_data.columns = [column.lower().strip().replace(\" \", \"_\") for column in life_expectancy_data.columns]\n",
    "\n",
    "    # Extract specific columns from dataframe\n",
    "    feature_columns = [\n",
    "        \"alcohol\",\n",
    "        \"bmi\",\n",
    "        \"polio\",\n",
    "        \"total_expenditure\",\n",
    "        \"diphtheria\",\n",
    "        \"hiv/aids\",\n",
    "        \"gdp\",\n",
    "        \"population\",\n",
    "        \"income_composition_of_resources\",\n",
    "        \"schooling\",\n",
    "    ]\n",
    "    target_column = \"life_expectancy\"\n",
    "    columns = [*feature_columns, target_column]\n",
    "\n",
    "    processed_dataframe = (\n",
    "        life_expectancy_data.filter(columns)  # Filter columns\n",
    "        .dropna(axis=0)  # Remove rows with NaN values\n",
    "        .assign(gdp_per_capita=lambda df: df[\"gdp\"] / df[\"population\"])  # Create new column dividing gdp by population\n",
    "        .drop(columns=[\"gdp\", \"population\"])  # Drop gdp and population columns\n",
    "    )\n",
    "\n",
    "    # Create features and target data\n",
    "    X = processed_dataframe.drop(columns=[target_column]).to_numpy()\n",
    "    y = processed_dataframe[target_column].to_numpy()\n",
    "\n",
    "    return X, y"
   ]
  },
  {
   "cell_type": "code",
   "execution_count": 5,
   "metadata": {},
   "outputs": [
    {
     "data": {
      "text/plain": [
       "((2094, 9), (2094,))"
      ]
     },
     "execution_count": 5,
     "metadata": {},
     "output_type": "execute_result"
    }
   ],
   "source": [
    "X, y = create_feature_and_target_data(life_expectancy_data)\n",
    "X.shape, y.shape"
   ]
  },
  {
   "cell_type": "code",
   "execution_count": 6,
   "metadata": {},
   "outputs": [
    {
     "name": "stderr",
     "output_type": "stream",
     "text": [
      "2024-01-13 16:16:25.182488: I metal_plugin/src/device/metal_device.cc:1154] Metal device set to: Apple M2\n",
      "2024-01-13 16:16:25.182508: I metal_plugin/src/device/metal_device.cc:296] systemMemory: 16.00 GB\n",
      "2024-01-13 16:16:25.182512: I metal_plugin/src/device/metal_device.cc:313] maxCacheSize: 5.33 GB\n",
      "2024-01-13 16:16:25.182544: I tensorflow/core/common_runtime/pluggable_device/pluggable_device_factory.cc:303] Could not identify NUMA node of platform GPU ID 0, defaulting to 0. Your kernel may not have been built with NUMA support.\n",
      "2024-01-13 16:16:25.182559: I tensorflow/core/common_runtime/pluggable_device/pluggable_device_factory.cc:269] Created TensorFlow device (/job:localhost/replica:0/task:0/device:GPU:0 with 0 MB memory) -> physical PluggableDevice (device: 0, name: METAL, pci bus id: <undefined>)\n"
     ]
    }
   ],
   "source": [
    "# Split train-test data\n",
    "X_train, X_test, y_train, y_test = train_test_split(X, y, test_size=0.2)\n",
    "\n",
    "# Standardize data\n",
    "scaler = StandardScaler()\n",
    "X_train = scaler.fit_transform(X_train)\n",
    "X_test = scaler.transform(X_test)\n",
    "\n",
    "# Convert to TensorFlow constant tensors\n",
    "X_train, y_train = tf.constant(X_train, dtype=tf.float32), tf.constant(y_train, dtype=tf.float32)\n",
    "X_test, y_test = tf.constant(X_test, dtype=tf.float32), tf.constant(y_test, dtype=tf.float32)"
   ]
  },
  {
   "cell_type": "markdown",
   "metadata": {},
   "source": [
    "## Linear regression model\n",
    "\n",
    "We will fit a simple model of the form\n",
    "\n",
    "$$\n",
    "y = h_\\theta(\\mathbf{x}) + \\epsilon,\n",
    "\n",
    "$$\n",
    "\n",
    "where $y\\in\\mathbb{R}$ is the target variable, $\\mathbf{x}\\in\\mathbb{R}^{9}$ are the input features, $\\theta\\in\\mathbb{R}^{10}$ are the model parameters, $\\epsilon\\sim\\mathcal{N}(0, 1)$ is the observation noise random variable, and $f_\\theta:\\mathbb{R}^{9}\\mapsto\\mathbb{R}$ is given by\n",
    "\n",
    "$$\n",
    "\\begin{align}\n",
    "h_\\theta(\\mathbf{x}) &= \\theta_0 + \\sum_{m=1}^{9} \\theta_m x_m\\\\\n",
    "&= \\sum_{m=0}^{10} \\theta_m x_m.\n",
    "\\end{align}\n",
    "$$\n",
    "\n",
    "In the second line above we have defined $x_0=1$ to be the constant feature. "
   ]
  },
  {
   "cell_type": "markdown",
   "metadata": {},
   "source": [
    "### MLE Normal Equations\n",
    "\n",
    "The maximum likelihood solution is given by the normal equation\n",
    "\n",
    "$$\n",
    "\\theta_{ML} = \\left(\\mathbf{X}^T \\mathbf{X}\\right)^{-1}\\mathbf{X}^T\\mathbf{y},\n",
    "$$\n",
    "\n",
    "where $\\mathbf{X}\\in\\mathbb{R}^{N\\times M}$ is the data matrix, $\\mathbf{y}\\in\\mathbb{R}^N$ are the targets, $N$ is the number of data examples, and $M$ are the number of features (including the constant feature)."
   ]
  },
  {
   "cell_type": "code",
   "execution_count": 21,
   "metadata": {},
   "outputs": [],
   "source": [
    "def normal_equation_tf(X: tf.constant, y: tf.constant) -> tf.Variable:\n",
    "    \"\"\"Calculate parameters using normal equations.\n",
    "\n",
    "    Args:\n",
    "        X: Features tensor\n",
    "        y: Target tensor\n",
    "    \"\"\"\n",
    "    ones = tf.ones([X.shape[0], 1], dtype=X.dtype)\n",
    "    X_bias = tf.concat([ones, X], axis=1)\n",
    "    X_bias_T = tf.transpose(X_bias)\n",
    "    XTX = tf.tensordot(X_bias_T, X_bias, axes=[[1], [0]])\n",
    "    inv_XTX = tf.linalg.inv(XTX)\n",
    "    inv_XTX_XT = tf.tensordot(inv_XTX, X_bias_T, axes=[[1], [0]])\n",
    "\n",
    "    return tf.tensordot(inv_XTX_XT, y, axes=[[1], [0]])"
   ]
  },
  {
   "cell_type": "code",
   "execution_count": 8,
   "metadata": {},
   "outputs": [
    {
     "data": {
      "text/plain": [
       "<tf.Tensor: shape=(10,), dtype=float32, numpy=\n",
       "array([ 6.8760109e+01, -5.7007843e-01,  1.2628831e+00,  4.1321987e-01,\n",
       "        6.6628486e-02,  6.1053598e-01, -3.6856465e+00,  2.5225701e+00,\n",
       "        3.8683507e+00,  2.7549013e-01], dtype=float32)>"
      ]
     },
     "execution_count": 8,
     "metadata": {},
     "output_type": "execute_result"
    }
   ],
   "source": [
    "normal_equation_tf(X_train, y_train)"
   ]
  },
  {
   "cell_type": "markdown",
   "metadata": {},
   "source": [
    "## Gradient Descent\n",
    "\n",
    "We define the loss function as the Mean Squared Error\n",
    "\n",
    "$$ J(\\theta)=\\frac{1}{n}\\sum_{i=1}^{n}(h_{\\theta}(\\mathbb{x^{(i)}})-y^{(i)})^2$$\n",
    "\n",
    "Our goal is to minimise $J_\\theta$ with respect to $\\theta$\n",
    "\n",
    "$$\\underset{\\theta}{\\text{minimise }}J(\\theta)$$\n",
    "\n",
    "\n",
    "The update step of Gradient Descent is\n",
    "$$\n",
    "\\theta_{m, t+1} = \\theta_{m, t} - \\eta \\nabla_\\theta {L}_{MSE}(\\theta_{m, t})\n",
    "$$\n",
    "\n",
    "where $\\eta>0$ is the learning rate and $t$ is the iteration."
   ]
  },
  {
   "cell_type": "code",
   "execution_count": 9,
   "metadata": {},
   "outputs": [],
   "source": [
    "def calc_y_pred(bias: tf.Variable, weights: tf.Variable, X: tf.constant) -> tf.constant:\n",
    "    \"\"\"Calculate y_pred using Linear Regression.\n",
    "\n",
    "    Args:\n",
    "        bias: The bias term in the Linear Regression equation.\n",
    "        weights: The weights in the Linear Regression equation.\n",
    "        X: The features tensor.\n",
    "\n",
    "    Returns:\n",
    "        The predicted values.\n",
    "    \"\"\"\n",
    "    return bias + tf.tensordot(X, weights, axes=[[1], [0]])"
   ]
  },
  {
   "cell_type": "code",
   "execution_count": 19,
   "metadata": {},
   "outputs": [],
   "source": [
    "# given\n",
    "bias = tf.Variable(1.0)\n",
    "weights = tf.Variable([2.0, 3.0])\n",
    "inputs = tf.constant([[1.0, 2.0], [3.0, 4.0]])\n",
    "\n",
    "# when\n",
    "result = calc_y_pred(bias, weights, inputs).numpy()\n",
    "\n",
    "# then\n",
    "expected = np.array([9.0, 19.0])\n",
    "assert (result == expected).all()"
   ]
  },
  {
   "cell_type": "code",
   "execution_count": 11,
   "metadata": {},
   "outputs": [],
   "source": [
    "def calc_mse(y_actuals: tf.constant, y_pred: tf.constant) -> tf.constant:\n",
    "    \"\"\"Calculate_mean_squared_error.\n",
    "\n",
    "    Args:\n",
    "        y_pred: The predicted values.\n",
    "        y_actuals: The actual values.\n",
    "\n",
    "    Returns:\n",
    "        The mean squared error.\n",
    "    \"\"\"\n",
    "    return tf.reduce_mean(tf.square(y_actuals - y_pred))"
   ]
  },
  {
   "cell_type": "code",
   "execution_count": 12,
   "metadata": {},
   "outputs": [],
   "source": [
    "# given\n",
    "preds = tf.constant([1.0, 1.0, 1.0, 1.0])\n",
    "actuals = tf.constant([1.0, 1.0, 11.0, 1.0])\n",
    "\n",
    "# when\n",
    "result = calc_mse(actuals, preds).numpy()\n",
    "\n",
    "# then\n",
    "expected = 25.0\n",
    "assert result == expected"
   ]
  },
  {
   "cell_type": "code",
   "execution_count": 13,
   "metadata": {},
   "outputs": [],
   "source": [
    "def update_parameters(\n",
    "    bias: tf.Variable, weights: tf.Variable, X_train: tf.constant, y_train: tf.constant, learning_rate: float\n",
    "):\n",
    "    \"\"\"Update parameters using Gradient Descent.\n",
    "\n",
    "    Args:\n",
    "        bias: The bias term in the Linear Regression equation.\n",
    "        weights: The weights in the Linear Regression equation.\n",
    "        X_train: The input training data.\n",
    "        y_train: The actual target values for training.\n",
    "        learning_rate: The learning rate for Gradient Descent.\n",
    "    \"\"\"\n",
    "    with tf.GradientTape() as tape:\n",
    "        # Calculate the current predictions\n",
    "        y_pred = calc_y_pred(bias, weights, X_train)\n",
    "\n",
    "        # Calculate the loss (mean squared error)\n",
    "        loss = calc_mse(y_train, y_pred)\n",
    "\n",
    "    # Compute the gradients of loss with respect to bias and weights\n",
    "    dLoss_dbias, dLoss_dweights = tape.gradient(loss, [bias, weights])\n",
    "\n",
    "    # Update the parameters\n",
    "    bias.assign_sub(learning_rate * dLoss_dbias)\n",
    "    weights.assign_sub(learning_rate * dLoss_dweights)"
   ]
  },
  {
   "cell_type": "code",
   "execution_count": 20,
   "metadata": {},
   "outputs": [],
   "source": [
    "def gradient_descent(\n",
    "    n_iterations: int,\n",
    "    X_train: tf.constant,\n",
    "    y_train: tf.constant,\n",
    "    iteration: tf.Variable,\n",
    "    bias: tf.Variable,\n",
    "    weights: tf.Variable,\n",
    ") -> list:\n",
    "    \"\"\"Perform Gradient Descent to find optimal parameters of a Linear Regression.\n",
    "\n",
    "    Args:\n",
    "        n_iterations: The number of gradient descent iterations.\n",
    "        X_train: The input training data.\n",
    "        y_train: The actual target values for training.\n",
    "        iteration: A variable to track the current iteration.\n",
    "        bias: Randomly initialised bias term of the model.\n",
    "        weights: Randomly initialised weights of the model.\n",
    "\n",
    "    Returns:\n",
    "        List of Mean Squared Error for each iteration.\n",
    "    \"\"\"\n",
    "    learning_rate = 0.01\n",
    "    losses = []\n",
    "\n",
    "    for i in range(n_iterations):\n",
    "        update_parameters(bias, weights, X_train, y_train, learning_rate)\n",
    "        y_pred = calc_y_pred(bias, weights, X_train)\n",
    "        loss = calc_mse(y_train, y_pred)\n",
    "        losses.append(loss.numpy())\n",
    "        if i % 100 == 0:\n",
    "            print(f\"Iteration: {i}, Loss: {loss.numpy()}\")\n",
    "        iteration.assign_add(1)\n",
    "\n",
    "    print(\"Training completed!\")\n",
    "\n",
    "    return losses"
   ]
  },
  {
   "cell_type": "code",
   "execution_count": 15,
   "metadata": {},
   "outputs": [],
   "source": [
    "bias_grad_desc = tf.Variable(0.0, dtype=tf.float32, name=\"bias\", trainable=True)\n",
    "weights_grad_desc = tf.Variable(tf.random.normal([9]), dtype=tf.float32, name=\"bias\", trainable=True)\n",
    "iteration = tf.Variable(0, dtype=tf.int32, name=\"iteration\", trainable=False)"
   ]
  },
  {
   "cell_type": "code",
   "execution_count": 16,
   "metadata": {},
   "outputs": [
    {
     "name": "stdout",
     "output_type": "stream",
     "text": [
      "Iteration: 0, Loss: 4646.103515625\n",
      "Iteration: 100, Loss: 100.03033447265625\n",
      "Iteration: 200, Loss: 20.25514793395996\n",
      "Iteration: 300, Loss: 18.67815589904785\n",
      "Iteration: 400, Loss: 18.608997344970703\n",
      "Iteration: 500, Loss: 18.595430374145508\n",
      "Iteration: 600, Loss: 18.590682983398438\n",
      "Iteration: 700, Loss: 18.588687896728516\n",
      "Iteration: 800, Loss: 18.5877742767334\n",
      "Iteration: 900, Loss: 18.58733367919922\n",
      "Iteration: 1000, Loss: 18.587116241455078\n",
      "Iteration: 1100, Loss: 18.58700942993164\n",
      "Iteration: 1200, Loss: 18.586956024169922\n",
      "Iteration: 1300, Loss: 18.586931228637695\n",
      "Iteration: 1400, Loss: 18.586915969848633\n",
      "Iteration: 1500, Loss: 18.586910247802734\n",
      "Iteration: 1600, Loss: 18.58690643310547\n",
      "Iteration: 1700, Loss: 18.58690643310547\n",
      "Iteration: 1800, Loss: 18.586902618408203\n",
      "Iteration: 1900, Loss: 18.586904525756836\n",
      "Training completed!\n"
     ]
    }
   ],
   "source": [
    "losses = gradient_descent(\n",
    "    n_iterations=2000,\n",
    "    X_train=X_train,\n",
    "    y_train=y_train,\n",
    "    iteration=iteration,\n",
    "    bias=bias_grad_desc,\n",
    "    weights=weights_grad_desc,\n",
    ")"
   ]
  },
  {
   "cell_type": "markdown",
   "metadata": {},
   "source": [
    "### Check if loss converges"
   ]
  },
  {
   "cell_type": "code",
   "execution_count": 17,
   "metadata": {},
   "outputs": [
    {
     "data": {
      "image/png": "[encoded data removed]",
      "text/plain": [
       "<Figure size 640x480 with 1 Axes>"
      ]
     },
     "metadata": {},
     "output_type": "display_data"
    }
   ],
   "source": [
    "plt.plot(losses)\n",
    "plt.title(\"Loss vs iterations\")\n",
    "plt.xlabel(\"Iterations\")\n",
    "plt.ylabel(\"MSE loss\")\n",
    "plt.show()"
   ]
  },
  {
   "cell_type": "markdown",
   "metadata": {},
   "source": [
    "## Compare Normal Equations Parameters to Gradient Descent Parameters"
   ]
  },
  {
   "cell_type": "code",
   "execution_count": 18,
   "metadata": {},
   "outputs": [
    {
     "data": {
      "text/html": [
       "<div>\n",
       "<style scoped>\n",
       "    .dataframe tbody tr th:only-of-type {\n",
       "        vertical-align: middle;\n",
       "    }\n",
       "\n",
       "    .dataframe tbody tr th {\n",
       "        vertical-align: top;\n",
       "    }\n",
       "\n",
       "    .dataframe thead th {\n",
       "        text-align: right;\n",
       "    }\n",
       "</style>\n",
       "<table border=\"1\" class=\"dataframe\">\n",
       "  <thead>\n",
       "    <tr style=\"text-align: right;\">\n",
       "      <th></th>\n",
       "      <th>normal_equation_parameters</th>\n",
       "      <th>gradient_descent_parameters</th>\n",
       "      <th>difference</th>\n",
       "    </tr>\n",
       "  </thead>\n",
       "  <tbody>\n",
       "    <tr>\n",
       "      <th>0</th>\n",
       "      <td>68.760101</td>\n",
       "      <td>68.759903</td>\n",
       "      <td>0.0002</td>\n",
       "    </tr>\n",
       "    <tr>\n",
       "      <th>1</th>\n",
       "      <td>-0.570100</td>\n",
       "      <td>-0.570000</td>\n",
       "      <td>-0.0001</td>\n",
       "    </tr>\n",
       "    <tr>\n",
       "      <th>2</th>\n",
       "      <td>1.262900</td>\n",
       "      <td>1.263000</td>\n",
       "      <td>-0.0001</td>\n",
       "    </tr>\n",
       "    <tr>\n",
       "      <th>3</th>\n",
       "      <td>0.413200</td>\n",
       "      <td>0.413300</td>\n",
       "      <td>-0.0000</td>\n",
       "    </tr>\n",
       "    <tr>\n",
       "      <th>4</th>\n",
       "      <td>0.066600</td>\n",
       "      <td>0.066700</td>\n",
       "      <td>-0.0000</td>\n",
       "    </tr>\n",
       "    <tr>\n",
       "      <th>5</th>\n",
       "      <td>0.610500</td>\n",
       "      <td>0.610500</td>\n",
       "      <td>0.0000</td>\n",
       "    </tr>\n",
       "    <tr>\n",
       "      <th>6</th>\n",
       "      <td>-3.685600</td>\n",
       "      <td>-3.685600</td>\n",
       "      <td>-0.0000</td>\n",
       "    </tr>\n",
       "    <tr>\n",
       "      <th>7</th>\n",
       "      <td>2.522600</td>\n",
       "      <td>2.523200</td>\n",
       "      <td>-0.0007</td>\n",
       "    </tr>\n",
       "    <tr>\n",
       "      <th>8</th>\n",
       "      <td>3.868400</td>\n",
       "      <td>3.867500</td>\n",
       "      <td>0.0008</td>\n",
       "    </tr>\n",
       "    <tr>\n",
       "      <th>9</th>\n",
       "      <td>0.275500</td>\n",
       "      <td>0.275500</td>\n",
       "      <td>-0.0000</td>\n",
       "    </tr>\n",
       "  </tbody>\n",
       "</table>\n",
       "</div>"
      ],
      "text/plain": [
       "   normal_equation_parameters  gradient_descent_parameters  difference\n",
       "0                   68.760101                    68.759903      0.0002\n",
       "1                   -0.570100                    -0.570000     -0.0001\n",
       "2                    1.262900                     1.263000     -0.0001\n",
       "3                    0.413200                     0.413300     -0.0000\n",
       "4                    0.066600                     0.066700     -0.0000\n",
       "5                    0.610500                     0.610500      0.0000\n",
       "6                   -3.685600                    -3.685600     -0.0000\n",
       "7                    2.522600                     2.523200     -0.0007\n",
       "8                    3.868400                     3.867500      0.0008\n",
       "9                    0.275500                     0.275500     -0.0000"
      ]
     },
     "execution_count": 18,
     "metadata": {},
     "output_type": "execute_result"
    }
   ],
   "source": [
    "comparison = pd.DataFrame(\n",
    "    {\n",
    "        \"normal_equation_parameters\": normal_equation_tf(X_train, y_train),\n",
    "        \"gradient_descent_parameters\": np.hstack([bias_grad_desc.numpy(), weights_grad_desc.numpy()]),\n",
    "    }\n",
    ").assign(difference=lambda df: df[\"normal_equation_parameters\"] - df[\"gradient_descent_parameters\"])\n",
    "\n",
    "comparison.round(4)"
   ]
  }
 ],
 "metadata": {
  "kernelspec": {
   "display_name": "Python 3",
   "language": "python",
   "name": "python3"
  },
  "language_info": {
   "codemirror_mode": {
    "name": "ipython",
    "version": 3
   },
   "file_extension": ".py",
   "mimetype": "text/x-python",
   "name": "python",
   "nbconvert_exporter": "python",
   "pygments_lexer": "ipython3",
   "version": "3.10.13"
  }
 },
 "nbformat": 4,
 "nbformat_minor": 2
}
