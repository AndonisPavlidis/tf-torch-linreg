{
 "cells": [
  {
   "cell_type": "code",
   "execution_count": 74,
   "metadata": {},
   "outputs": [],
   "source": [
    "import torch\n",
    "import pandas as pd\n",
    "import matplotlib.pyplot as plt\n",
    "import numpy as np\n",
    "from sklearn.preprocessing import StandardScaler\n",
    "from sklearn.model_selection import train_test_split\n",
    "from pathlib import Path"
   ]
  },
  {
   "cell_type": "code",
   "execution_count": 75,
   "metadata": {},
   "outputs": [
    {
     "name": "stdout",
     "output_type": "stream",
     "text": [
      "No Cuda available, checking for mps.\n",
      "MPS is available! Training on Apple Silicon GPU.\n"
     ]
    }
   ],
   "source": [
    "# Check what physical devices are available\n",
    "if torch.cuda.is_available():\n",
    "    device = torch.device(\"cuda\")\n",
    "    print(\"Cuda is available! Training on GPU.\")\n",
    "elif torch.backends.mps.is_available():\n",
    "    print(\"No Cuda available, checking for mps.\")\n",
    "    device = torch.device(\"mps\")\n",
    "    print(\"MPS is available! Training on Apple Silicon GPU.\")\n",
    "else:\n",
    "    print(\"MPS is not available. Training on CPU.\")\n",
    "    device = torch.device(\"cpu\")"
   ]
  },
  {
   "cell_type": "markdown",
   "metadata": {},
   "source": [
    "## Load and prepare the data"
   ]
  },
  {
   "cell_type": "code",
   "execution_count": 76,
   "metadata": {
    "scrolled": true
   },
   "outputs": [],
   "source": [
    "life_expectancy_data = pd.read_csv(Path(\"./data/life_expectancy_who.csv\"))"
   ]
  },
  {
   "cell_type": "code",
   "execution_count": 77,
   "metadata": {},
   "outputs": [],
   "source": [
    "def create_feature_and_target_data(life_expectancy_data: pd.DataFrame) -> (np.array, np.array):\n",
    "    \"\"\"Create feature and target TensorFlow tensors from life expectancy data.\n",
    "\n",
    "    Args:\n",
    "        dataframe: Life expectancy data downloaded from Kaggle kumarajarshi/life-expectancy-who.\n",
    "\n",
    "    Returns:\n",
    "        X, y the features and target data.\n",
    "    \"\"\"\n",
    "    # Rename columns to remove spaces and make lowercase\n",
    "    life_expectancy_data.columns = [column.lower().strip().replace(\" \", \"_\") for column in life_expectancy_data.columns]\n",
    "\n",
    "    # Extract specific columns from dataframe\n",
    "    feature_columns = [\n",
    "        \"alcohol\",\n",
    "        \"bmi\",\n",
    "        \"polio\",\n",
    "        \"total_expenditure\",\n",
    "        \"diphtheria\",\n",
    "        \"hiv/aids\",\n",
    "        \"gdp\",\n",
    "        \"population\",\n",
    "        \"income_composition_of_resources\",\n",
    "        \"schooling\",\n",
    "    ]\n",
    "    target_column = \"life_expectancy\"\n",
    "    columns = [*feature_columns, target_column]\n",
    "\n",
    "    processed_dataframe = (\n",
    "        life_expectancy_data.filter(columns)  # Filter columns\n",
    "        .dropna(axis=0)  # Remove rows with NaN values\n",
    "        .assign(gdp_per_capita=lambda df: df[\"gdp\"] / df[\"population\"])  # Create new column dividing gdp by population\n",
    "        .drop(columns=[\"gdp\", \"population\"])  # Drop gdp and population columns\n",
    "    )\n",
    "\n",
    "    # Create features and target data\n",
    "    X = processed_dataframe.drop(columns=[target_column]).to_numpy()\n",
    "    y = processed_dataframe[target_column].to_numpy()\n",
    "\n",
    "    return X, y"
   ]
  },
  {
   "cell_type": "code",
   "execution_count": 78,
   "metadata": {},
   "outputs": [
    {
     "data": {
      "text/plain": [
       "((2094, 9), (2094,))"
      ]
     },
     "execution_count": 78,
     "metadata": {},
     "output_type": "execute_result"
    }
   ],
   "source": [
    "X, y = create_feature_and_target_data(life_expectancy_data)\n",
    "X.shape, y.shape"
   ]
  },
  {
   "cell_type": "code",
   "execution_count": 79,
   "metadata": {},
   "outputs": [],
   "source": [
    "# Split train-test data\n",
    "X_train, X_test, y_train, y_test = train_test_split(X, y, test_size=0.2)\n",
    "\n",
    "# Standardize data\n",
    "scaler = StandardScaler()\n",
    "X_train = scaler.fit_transform(X_train)\n",
    "X_test = scaler.transform(X_test)\n",
    "\n",
    "# Convert to TensorFlow constant tensors\n",
    "X_train, y_train = torch.tensor(X_train, dtype=torch.float32), torch.tensor(y_train, dtype=torch.float32)\n",
    "X_test, y_test = torch.tensor(X_test, dtype=torch.float32), torch.tensor(y_test, dtype=torch.float32)"
   ]
  },
  {
   "cell_type": "markdown",
   "metadata": {},
   "source": [
    "## Linear regression model\n",
    "\n",
    "We will fit a simple model of the form\n",
    "\n",
    "$$\n",
    "y = h_\\theta(\\mathbf{x}) + \\epsilon,\n",
    "\n",
    "$$\n",
    "\n",
    "where $y\\in\\mathbb{R}$ is the target variable, $\\mathbf{x}\\in\\mathbb{R}^{9}$ are the input features, $\\theta\\in\\mathbb{R}^{10}$ are the model parameters, $\\epsilon\\sim\\mathcal{N}(0, 1)$ is the observation noise random variable, and $f_\\theta:\\mathbb{R}^{9}\\mapsto\\mathbb{R}$ is given by\n",
    "\n",
    "$$\n",
    "\\begin{align}\n",
    "h_\\theta(\\mathbf{x}) &= \\theta_0 + \\sum_{m=1}^{9} \\theta_m x_m\\\\\n",
    "&= \\sum_{m=0}^{10} \\theta_m x_m.\n",
    "\\end{align}\n",
    "$$\n",
    "\n",
    "In the second line above we have defined $x_0=1$ to be the constant feature. "
   ]
  },
  {
   "cell_type": "markdown",
   "metadata": {},
   "source": [
    "### MLE Normal Equations\n",
    "\n",
    "The maximum likelihood solution is given by the normal equation\n",
    "\n",
    "$$\n",
    "\\theta_{ML} = \\left(\\mathbf{X}^T \\mathbf{X}\\right)^{-1}\\mathbf{X}^T\\mathbf{y},\n",
    "$$\n",
    "\n",
    "where $\\mathbf{X}\\in\\mathbb{R}^{N\\times M}$ is the data matrix, $\\mathbf{y}\\in\\mathbb{R}^N$ are the targets, $N$ is the number of data examples, and $M$ are the number of features (including the constant feature)."
   ]
  },
  {
   "cell_type": "code",
   "execution_count": 80,
   "metadata": {},
   "outputs": [],
   "source": [
    "def normal_equation_tf(X: torch.Tensor, y: torch.Tensor) -> torch.Tensor:\n",
    "    \"\"\"Calculate parameters using normal equations.\n",
    "\n",
    "    Args:\n",
    "        X: Features tensor\n",
    "        y: Target tensor\n",
    "    \"\"\"\n",
    "    ones = torch.ones([X.shape[0], 1], dtype=X.dtype)\n",
    "    X_bias = torch.concat([ones, X], axis=1)\n",
    "    X_bias_T = torch.transpose(X_bias, dim0=0, dim1=1)\n",
    "    XTX = torch.matmul(X_bias_T, X_bias)\n",
    "    inv_XTX = torch.linalg.inv(XTX)\n",
    "    inv_XTX_XT = torch.matmul(inv_XTX, X_bias_T)\n",
    "\n",
    "    return torch.matmul(inv_XTX_XT, y)"
   ]
  },
  {
   "cell_type": "code",
   "execution_count": 81,
   "metadata": {},
   "outputs": [
    {
     "data": {
      "text/plain": [
       "tensor([68.7835, -0.4168,  1.2120,  0.3541,  0.1934,  0.5038, -3.7782,  2.4875,\n",
       "         3.7791,  0.2814])"
      ]
     },
     "execution_count": 81,
     "metadata": {},
     "output_type": "execute_result"
    }
   ],
   "source": [
    "normal_equation_tf(X_train, y_train)"
   ]
  },
  {
   "cell_type": "markdown",
   "metadata": {},
   "source": [
    "## Gradient Descent\n",
    "\n",
    "We define the loss function as the Mean Squared Error\n",
    "\n",
    "$$ J(\\theta)=\\frac{1}{n}\\sum_{i=1}^{n}(h_{\\theta}(\\mathbb{x^{(i)}})-y^{(i)})^2$$\n",
    "\n",
    "Our goal is to minimise $J_\\theta$ with respect to $\\theta$\n",
    "\n",
    "$$\\underset{\\theta}{\\text{minimise }}J(\\theta)$$\n",
    "\n",
    "\n",
    "The update step of Gradient Descent is\n",
    "$$\n",
    "\\theta_{m, t+1} = \\theta_{m, t} - \\eta \\nabla_\\theta {L}_{MSE}(\\theta_{m, t})\n",
    "$$\n",
    "\n",
    "where $\\eta>0$ is the learning rate and $t$ is the iteration."
   ]
  },
  {
   "cell_type": "code",
   "execution_count": 82,
   "metadata": {},
   "outputs": [],
   "source": [
    "def calc_y_pred(bias: torch.Tensor, weights: torch.Tensor, X: torch.Tensor) -> torch.Tensor:\n",
    "    \"\"\"Calculate y_pred using Linear Regression.\n",
    "\n",
    "    Args:\n",
    "        bias: The bias term in the Linear Regression equation.\n",
    "        weights: The weights in the Linear Regression equation.\n",
    "        X: The features tensor.\n",
    "\n",
    "    Returns:\n",
    "        The predicted values.\n",
    "    \"\"\"\n",
    "    return bias + torch.matmul(X, weights)"
   ]
  },
  {
   "cell_type": "code",
   "execution_count": 83,
   "metadata": {},
   "outputs": [],
   "source": [
    "# given\n",
    "bias = torch.Tensor([1.0])\n",
    "weights = torch.Tensor([2.0, 3.0])\n",
    "inputs = torch.Tensor([[1.0, 2.0], [3.0, 4.0]])\n",
    "\n",
    "# when\n",
    "result = calc_y_pred(bias, weights, inputs).numpy()\n",
    "\n",
    "# then\n",
    "expected = np.array([9.0, 19.0])\n",
    "assert (result == expected).all()"
   ]
  },
  {
   "cell_type": "code",
   "execution_count": 84,
   "metadata": {},
   "outputs": [],
   "source": [
    "def calc_mse(y_actuals: torch.Tensor, y_pred: torch.Tensor) -> torch.Tensor:\n",
    "    \"\"\"Calculate_mean_squared_error.\n",
    "\n",
    "    Args:\n",
    "        y_pred: The predicted values.\n",
    "        y_actuals: The actual values.\n",
    "\n",
    "    Returns:\n",
    "        The mean squared error.\n",
    "    \"\"\"\n",
    "    return torch.mean(torch.square(y_actuals - y_pred))"
   ]
  },
  {
   "cell_type": "code",
   "execution_count": 85,
   "metadata": {},
   "outputs": [],
   "source": [
    "# given\n",
    "preds = torch.Tensor([1.0, 1.0, 1.0, 1.0])\n",
    "actuals = torch.Tensor([1.0, 1.0, 11.0, 1.0])\n",
    "\n",
    "# when\n",
    "result = calc_mse(actuals, preds).numpy()\n",
    "\n",
    "# then\n",
    "expected = 25.0\n",
    "assert result == expected"
   ]
  },
  {
   "cell_type": "code",
   "execution_count": 86,
   "metadata": {},
   "outputs": [],
   "source": [
    "def update_parameters(\n",
    "    bias: torch.Tensor, weights: torch.Tensor, X_train: torch.Tensor, y_train: torch.Tensor, learning_rate: float\n",
    "):\n",
    "    \"\"\"Update parameters using Gradient Descent.\n",
    "\n",
    "    Args:\n",
    "        bias: The bias term in the Linear Regression equation.\n",
    "        weights: The weights in the Linear Regression equation.\n",
    "        X_train: The input training data.\n",
    "        y_train: The actual target values for training.\n",
    "        learning_rate: The learning rate for Gradient Descent.\n",
    "    \"\"\"\n",
    "    bias.requires_grad_(True)\n",
    "    weights.requires_grad_(True)\n",
    "\n",
    "    # Calculate the current predictions\n",
    "    y_pred = calc_y_pred(bias, weights, X_train)\n",
    "\n",
    "    # Calculate the loss (mean squared error)\n",
    "    loss = calc_mse(y_train, y_pred)\n",
    "\n",
    "    # Compute the gradients of loss with respect to bias and weights\n",
    "    loss.backward()\n",
    "\n",
    "    with torch.no_grad():\n",
    "        # Update bias and weights using Gradient Descent\n",
    "        bias -= learning_rate * bias.grad\n",
    "        weights -= learning_rate * weights.grad\n",
    "\n",
    "        # Reset gradients to zero\n",
    "        bias.grad.zero_()\n",
    "        weights.grad.zero_()"
   ]
  },
  {
   "cell_type": "code",
   "execution_count": 87,
   "metadata": {},
   "outputs": [],
   "source": [
    "def gradient_descent(\n",
    "    n_iterations: int,\n",
    "    X_train: torch.Tensor,\n",
    "    y_train: torch.Tensor,\n",
    "    bias: torch.Tensor,\n",
    "    weights: torch.Tensor,\n",
    "):\n",
    "    \"\"\"Perform Gradient Descent to find optimal parameters of a Linear Regression.\n",
    "\n",
    "    Args:\n",
    "        n_iterations: The number of gradient descent iterations.\n",
    "        X_train: The input training data.\n",
    "        y_train: The actual target values for training.\n",
    "        iteration: A variable to track the current iteration.\n",
    "        bias: Randomly initialised bias term of the model.\n",
    "        weights: Randomly initialised weights of the model.\n",
    "\n",
    "    Returns:\n",
    "        List of Mean Squared Error for each iteration.\n",
    "    \"\"\"\n",
    "    learning_rate = 0.01\n",
    "    losses = []\n",
    "\n",
    "    for i in range(1, n_iterations + 1):\n",
    "        update_parameters(bias, weights, X_train, y_train, learning_rate)\n",
    "        y_pred = calc_y_pred(bias, weights, X_train)\n",
    "        loss = calc_mse(y_train, y_pred)\n",
    "        losses.append(loss.item())\n",
    "        if i % 100 == 0:\n",
    "            print(f\"Iteration: {i}, Loss: {loss.item()}\")\n",
    "\n",
    "    print(\"Training completed!\")\n",
    "\n",
    "    return losses"
   ]
  },
  {
   "cell_type": "code",
   "execution_count": 88,
   "metadata": {},
   "outputs": [],
   "source": [
    "bias_grad_desc = torch.Tensor([0.0])\n",
    "weights_grad_desc = torch.randn([9])\n",
    "iteration = 0"
   ]
  },
  {
   "cell_type": "code",
   "execution_count": 89,
   "metadata": {},
   "outputs": [
    {
     "name": "stdout",
     "output_type": "stream",
     "text": [
      "Iteration: 100, Loss: 102.39413452148438\n",
      "Iteration: 200, Loss: 19.907981872558594\n",
      "Iteration: 300, Loss: 18.384485244750977\n",
      "Iteration: 400, Loss: 18.3431453704834\n",
      "Iteration: 500, Loss: 18.339365005493164\n",
      "Iteration: 600, Loss: 18.3386287689209\n",
      "Iteration: 700, Loss: 18.338457107543945\n",
      "Iteration: 800, Loss: 18.338409423828125\n",
      "Iteration: 900, Loss: 18.338394165039062\n",
      "Iteration: 1000, Loss: 18.33838653564453\n",
      "Iteration: 1100, Loss: 18.33838653564453\n",
      "Iteration: 1200, Loss: 18.3383846282959\n",
      "Iteration: 1300, Loss: 18.3383846282959\n",
      "Iteration: 1400, Loss: 18.3383846282959\n",
      "Iteration: 1500, Loss: 18.3383846282959\n",
      "Iteration: 1600, Loss: 18.3383846282959\n",
      "Iteration: 1700, Loss: 18.3383846282959\n",
      "Iteration: 1800, Loss: 18.3383846282959\n",
      "Iteration: 1900, Loss: 18.3383846282959\n",
      "Iteration: 2000, Loss: 18.338382720947266\n",
      "Training completed!\n"
     ]
    }
   ],
   "source": [
    "losses = gradient_descent(\n",
    "    n_iterations=2000,\n",
    "    X_train=X_train,\n",
    "    y_train=y_train,\n",
    "    bias=bias_grad_desc,\n",
    "    weights=weights_grad_desc,\n",
    ")"
   ]
  },
  {
   "cell_type": "markdown",
   "metadata": {},
   "source": [
    "### Check if loss converges"
   ]
  },
  {
   "cell_type": "code",
   "execution_count": 90,
   "metadata": {},
   "outputs": [
    {
     "data": {
      "image/png": "[encoded data removed]",
      "text/plain": [
       "<Figure size 640x480 with 1 Axes>"
      ]
     },
     "metadata": {},
     "output_type": "display_data"
    }
   ],
   "source": [
    "plt.plot(losses)\n",
    "plt.title(\"Loss vs iterations\")\n",
    "plt.xlabel(\"Iterations\")\n",
    "plt.ylabel(\"MSE loss\")\n",
    "plt.show()"
   ]
  },
  {
   "cell_type": "markdown",
   "metadata": {},
   "source": [
    "## Compare Normal Equations Parameters to Gradient Descent Parameters"
   ]
  },
  {
   "cell_type": "code",
   "execution_count": 91,
   "metadata": {},
   "outputs": [
    {
     "data": {
      "text/html": [
       "<div>\n",
       "<style scoped>\n",
       "    .dataframe tbody tr th:only-of-type {\n",
       "        vertical-align: middle;\n",
       "    }\n",
       "\n",
       "    .dataframe tbody tr th {\n",
       "        vertical-align: top;\n",
       "    }\n",
       "\n",
       "    .dataframe thead th {\n",
       "        text-align: right;\n",
       "    }\n",
       "</style>\n",
       "<table border=\"1\" class=\"dataframe\">\n",
       "  <thead>\n",
       "    <tr style=\"text-align: right;\">\n",
       "      <th></th>\n",
       "      <th>normal_equation_parameters</th>\n",
       "      <th>gradient_descent_parameters</th>\n",
       "      <th>difference</th>\n",
       "    </tr>\n",
       "  </thead>\n",
       "  <tbody>\n",
       "    <tr>\n",
       "      <th>0</th>\n",
       "      <td>68.783501</td>\n",
       "      <td>68.7833</td>\n",
       "      <td>0.0002</td>\n",
       "    </tr>\n",
       "    <tr>\n",
       "      <th>1</th>\n",
       "      <td>-0.416800</td>\n",
       "      <td>-0.4168</td>\n",
       "      <td>-0.0000</td>\n",
       "    </tr>\n",
       "    <tr>\n",
       "      <th>2</th>\n",
       "      <td>1.212000</td>\n",
       "      <td>1.2120</td>\n",
       "      <td>-0.0000</td>\n",
       "    </tr>\n",
       "    <tr>\n",
       "      <th>3</th>\n",
       "      <td>0.354100</td>\n",
       "      <td>0.3541</td>\n",
       "      <td>-0.0000</td>\n",
       "    </tr>\n",
       "    <tr>\n",
       "      <th>4</th>\n",
       "      <td>0.193400</td>\n",
       "      <td>0.1934</td>\n",
       "      <td>-0.0000</td>\n",
       "    </tr>\n",
       "    <tr>\n",
       "      <th>5</th>\n",
       "      <td>0.503800</td>\n",
       "      <td>0.5038</td>\n",
       "      <td>0.0000</td>\n",
       "    </tr>\n",
       "    <tr>\n",
       "      <th>6</th>\n",
       "      <td>-3.778200</td>\n",
       "      <td>-3.7782</td>\n",
       "      <td>-0.0000</td>\n",
       "    </tr>\n",
       "    <tr>\n",
       "      <th>7</th>\n",
       "      <td>2.487500</td>\n",
       "      <td>2.4876</td>\n",
       "      <td>-0.0001</td>\n",
       "    </tr>\n",
       "    <tr>\n",
       "      <th>8</th>\n",
       "      <td>3.779100</td>\n",
       "      <td>3.7789</td>\n",
       "      <td>0.0001</td>\n",
       "    </tr>\n",
       "    <tr>\n",
       "      <th>9</th>\n",
       "      <td>0.281400</td>\n",
       "      <td>0.2814</td>\n",
       "      <td>-0.0000</td>\n",
       "    </tr>\n",
       "  </tbody>\n",
       "</table>\n",
       "</div>"
      ],
      "text/plain": [
       "   normal_equation_parameters  gradient_descent_parameters  difference\n",
       "0                   68.783501                      68.7833      0.0002\n",
       "1                   -0.416800                      -0.4168     -0.0000\n",
       "2                    1.212000                       1.2120     -0.0000\n",
       "3                    0.354100                       0.3541     -0.0000\n",
       "4                    0.193400                       0.1934     -0.0000\n",
       "5                    0.503800                       0.5038      0.0000\n",
       "6                   -3.778200                      -3.7782     -0.0000\n",
       "7                    2.487500                       2.4876     -0.0001\n",
       "8                    3.779100                       3.7789      0.0001\n",
       "9                    0.281400                       0.2814     -0.0000"
      ]
     },
     "execution_count": 91,
     "metadata": {},
     "output_type": "execute_result"
    }
   ],
   "source": [
    "comparison = pd.DataFrame(\n",
    "    {\n",
    "        \"normal_equation_parameters\": normal_equation_tf(X_train, y_train),\n",
    "        \"gradient_descent_parameters\": np.hstack([bias_grad_desc.item(), weights_grad_desc.detach().numpy()]),\n",
    "    }\n",
    ").assign(difference=lambda df: df[\"normal_equation_parameters\"] - df[\"gradient_descent_parameters\"])\n",
    "\n",
    "comparison.round(4)"
   ]
  }
 ],
 "metadata": {
  "kernelspec": {
   "display_name": "Python 3",
   "language": "python",
   "name": "python3"
  },
  "language_info": {
   "codemirror_mode": {
    "name": "ipython",
    "version": 3
   },
   "file_extension": ".py",
   "mimetype": "text/x-python",
   "name": "python",
   "nbconvert_exporter": "python",
   "pygments_lexer": "ipython3",
   "version": "3.10.13"
  }
 },
 "nbformat": 4,
 "nbformat_minor": 2
}
